{
 "cells": [
  {
   "cell_type": "code",
   "execution_count": 5,
   "metadata": {},
   "outputs": [
    {
     "name": "stdout",
     "output_type": "stream",
     "text": [
      "Defaulting to user installation because normal site-packages is not writeable\n",
      "Requirement already satisfied: parse in /home/hadoop/.local/lib/python3.7/site-packages (1.19.0)\n"
     ]
    }
   ],
   "source": [
    "!pip install parse\n",
    "import parse\n"
   ]
  },
  {
   "cell_type": "code",
   "execution_count": 20,
   "metadata": {},
   "outputs": [
    {
     "data": {
      "text/plain": [
       "('bucket', 'etl/competition/2021-01-01/')"
      ]
     },
     "execution_count": 20,
     "metadata": {},
     "output_type": "execute_result"
    }
   ],
   "source": [
    "bucket, prefix = parse.parse(\"s3://{}/{}\", \"s3://bucket/etl/competition/2021-01-01/\")\n"
   ]
  },
  {
   "cell_type": "code",
   "execution_count": 29,
   "metadata": {},
   "outputs": [],
   "source": [
    "# use performance timer\n",
    "import time\n",
    "\n",
    "\n",
    "def timer(func):\n",
    "    def inner(*args, **kwargs):\n",
    "        start = time.time()\n",
    "        result = func(*args, **kwargs)\n",
    "        stop = time.time()\n",
    "        elapsed_time = stop - start\n",
    "        print(elapsed_time)\n",
    "        return result\n",
    "    return inner\n"
   ]
  },
  {
   "cell_type": "code",
   "execution_count": 30,
   "metadata": {},
   "outputs": [],
   "source": [
    "@timer\n",
    "def looper():\n",
    "    for i in range(10000):\n",
    "        pass\n",
    "    print(i)"
   ]
  },
  {
   "cell_type": "code",
   "execution_count": 32,
   "metadata": {},
   "outputs": [
    {
     "ename": "TypeError",
     "evalue": "update_wrapper() missing 1 required positional argument: 'wrapper'",
     "output_type": "error",
     "traceback": [
      "\u001b[0;31m---------------------------------------------------------------------------\u001b[0m",
      "\u001b[0;31mTypeError\u001b[0m                                 Traceback (most recent call last)",
      "\u001b[0;32m/tmp/ipykernel_325700/3001368528.py\u001b[0m in \u001b[0;36m<module>\u001b[0;34m\u001b[0m\n\u001b[0;32m----> 1\u001b[0;31m \u001b[0mlooper\u001b[0m\u001b[0;34m(\u001b[0m\u001b[0;34m)\u001b[0m\u001b[0;34m\u001b[0m\u001b[0;34m\u001b[0m\u001b[0m\n\u001b[0m",
      "\u001b[0;31mTypeError\u001b[0m: update_wrapper() missing 1 required positional argument: 'wrapper'"
     ]
    }
   ],
   "source": [
    "looper()"
   ]
  },
  {
   "cell_type": "code",
   "execution_count": 8,
   "metadata": {},
   "outputs": [],
   "source": [
    "# programatically, get a reference to all modules that were imported.\n",
    "\n"
   ]
  },
  {
   "cell_type": "code",
   "execution_count": 12,
   "metadata": {},
   "outputs": [],
   "source": [
    "def printer(func):\n",
    "    def wrapper(*args, **kwargs):\n",
    "        print(f\"{'':*^80}\\nStarting application `{func.__name__}`...\")\n",
    "        func(*args, **kwargs)\n",
    "        print(f\"Finished running `{func.__name__}`.\")\n",
    "    return wrapper"
   ]
  },
  {
   "cell_type": "code",
   "execution_count": 45,
   "metadata": {},
   "outputs": [],
   "source": [
    "import itertools\n",
    "\n",
    "example_structures = [Dimension.DATE, Fact.CLAIM, Table.CLAIM]\n",
    "ways_of_choosing = [\n",
    "    (structure, '')  # '' represents not choosing the structure.\n",
    "    for structure \n",
    "    in example_structures\n",
    "]\n",
    "test_cases = [\n",
    "    combination \n",
    "    for combination \n",
    "    in list(itertools.product(*ways_of_choosing))    \n",
    "    if len([item for item in combination if item != '']) != 1\n",
    "]"
   ]
  },
  {
   "cell_type": "code",
   "execution_count": 47,
   "metadata": {},
   "outputs": [
    {
     "name": "stdout",
     "output_type": "stream",
     "text": [
      "(<Dimension.DATE: 'date_dim'>, <Fact.CLAIM: 'claim_fact'>, <Table.CLAIM: 'claim'>)\n",
      "(<Dimension.DATE: 'date_dim'>, <Fact.CLAIM: 'claim_fact'>, '')\n",
      "(<Dimension.DATE: 'date_dim'>, '', <Table.CLAIM: 'claim'>)\n",
      "('', <Fact.CLAIM: 'claim_fact'>, <Table.CLAIM: 'claim'>)\n",
      "('', '', '')\n"
     ]
    }
   ],
   "source": [
    "for test_case in test_cases:\n",
    "    print(test_case)"
   ]
  },
  {
   "cell_type": "code",
   "execution_count": 13,
   "metadata": {},
   "outputs": [],
   "source": [
    "import types\n",
    "\n",
    "def fync():\n",
    "    pass\n",
    "\n",
    "\n",
    "for name, obj in dict(globals()).items():\n",
    "    if isinstance(obj, types.FunctionType):\n",
    "        obj = printer(obj)"
   ]
  },
  {
   "cell_type": "code",
   "execution_count": 14,
   "metadata": {},
   "outputs": [],
   "source": [
    "fync()"
   ]
  },
  {
   "cell_type": "code",
   "execution_count": 30,
   "metadata": {
    "tags": [
     "counter"
    ]
   },
   "outputs": [],
   "source": [
    "#tag \n",
    "\n",
    "def counter(count=0):\n",
    "    def inner():\n",
    "        nonlocal count\n",
    "        count += 1\n",
    "        return count\n",
    "    return inner"
   ]
  },
  {
   "cell_type": "code",
   "execution_count": null,
   "metadata": {},
   "outputs": [],
   "source": [
    "\"\"\"\n",
    ">>> count = counter(0)\n",
    ">>> count()\n",
    "1\n",
    "\n",
    ">>> count = counter(4)\n",
    ">>> count()\n",
    ">>> count()\n",
    "6\n",
    "\"\"\""
   ]
  },
  {
   "cell_type": "code",
   "execution_count": null,
   "metadata": {},
   "outputs": [],
   "source": []
  }
 ],
 "metadata": {
  "kernelspec": {
   "display_name": "Python 3",
   "language": "python",
   "name": "python3"
  },
  "language_info": {
   "codemirror_mode": {
    "name": "ipython",
    "version": 3
   },
   "file_extension": ".py",
   "mimetype": "text/x-python",
   "name": "python",
   "nbconvert_exporter": "python",
   "pygments_lexer": "ipython3",
   "version": "3.7.16"
  },
  "orig_nbformat": 4
 },
 "nbformat": 4,
 "nbformat_minor": 2
}

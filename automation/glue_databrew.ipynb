{
 "cells": [
  {
   "cell_type": "code",
   "execution_count": 1,
   "metadata": {},
   "outputs": [
    {
     "name": "stderr",
     "output_type": "stream",
     "text": [
      "SLF4J: Class path contains multiple SLF4J bindings.\n",
      "SLF4J: Found binding in [jar:file:/home/glue_user/spark/jars/slf4j-reload4j-1.7.36.jar!/org/slf4j/impl/StaticLoggerBinder.class]\n",
      "SLF4J: Found binding in [jar:file:/home/glue_user/spark/jars/log4j-slf4j-impl-2.17.2.jar!/org/slf4j/impl/StaticLoggerBinder.class]\n",
      "SLF4J: Found binding in [jar:file:/home/glue_user/aws-glue-libs/jars/slf4j-reload4j-1.7.36.jar!/org/slf4j/impl/StaticLoggerBinder.class]\n",
      "SLF4J: Found binding in [jar:file:/home/glue_user/aws-glue-libs/jars/log4j-slf4j-impl-2.17.2.jar!/org/slf4j/impl/StaticLoggerBinder.class]\n",
      "SLF4J: See http://www.slf4j.org/codes.html#multiple_bindings for an explanation.\n",
      "SLF4J: Actual binding is of type [org.slf4j.impl.Reload4jLoggerFactory]\n",
      "log4j:WARN No appenders could be found for logger (org.apache.hadoop.metrics2.lib.MutableMetricsFactory).\n",
      "log4j:WARN Please initialize the log4j system properly.\n",
      "log4j:WARN See http://logging.apache.org/log4j/1.2/faq.html#noconfig for more info.\n",
      "/home/glue_user/spark/python/pyspark/sql/context.py:112: FutureWarning: Deprecated in 3.0.0. Use SparkSession.builder.getOrCreate() instead.\n",
      "  warnings.warn(\n"
     ]
    }
   ],
   "source": [
    "from databrew import DataBrew\n",
    "from glue import GlueWrapper\n",
    "import boto3\n",
    "import json\n",
    "import time\n",
    "import sys\n",
    "\n",
    "sys.path.append(\"/home/glue_user/project_lf/ETL-TDD\")\n",
    "\n",
    "glue = GlueWrapper('us-east-1')\n",
    "databrew = DataBrew('us-east-1')\n",
    "path = 's3://test-lf-wm/etl/raw/claim_db/claim/full/202306041621/'\n",
    "\n",
    "\n",
    "import stage_claim_into_raw\n",
    "import stage_policyholder_into_raw\n",
    "import stage_provider_into_raw\n",
    "\n",
    "# import glue dependencies\n",
    "from awsglue.context import GlueContext\n",
    "from awsglue.job import Job\n",
    "from awsglue.utils import getResolvedOptions\n",
    "from pyspark.context import SparkContext\n",
    "from pyspark.sql import SparkSession, DataFrame\n",
    "from etl.paths.components import Bucket\n",
    "\n",
    "\n",
    "# initialise spark session\n",
    "sc = SparkContext()\n",
    "glueContext = GlueContext(sc)"
   ]
  },
  {
   "attachments": {},
   "cell_type": "markdown",
   "metadata": {},
   "source": [
    "## Test Execution"
   ]
  },
  {
   "attachments": {},
   "cell_type": "markdown",
   "metadata": {},
   "source": [
    "## Process First Run"
   ]
  },
  {
   "cell_type": "code",
   "execution_count": 3,
   "metadata": {},
   "outputs": [
    {
     "name": "stdout",
     "output_type": "stream",
     "text": [
      "getInstance(**kwargs={}) called\n",
      "endpoint is s3(https://s3.amazonaws.com)\n"
     ]
    },
    {
     "name": "stderr",
     "output_type": "stream",
     "text": [
      "                                                                                \r"
     ]
    }
   ],
   "source": [
    "outputs = []\n",
    "\n",
    "df, path = stage_claim_into_raw.run(glueContext, Bucket.TEST)\n",
    "# outputs.append( (df, path) )\n",
    "# df, path = stage_policyholder_into_raw.run(spark, Bucket.TEST)\n",
    "# outputs.append( (df, path) )\n",
    "# df, path = stage_provider_into_raw.run(spark, Bucket.TEST)\n",
    "# outputs.append( (df, path) )"
   ]
  },
  {
   "cell_type": "code",
   "execution_count": 4,
   "metadata": {},
   "outputs": [
    {
     "data": {
      "text/plain": [
       "<awsglue.dynamicframe.DynamicFrame at 0x7fbb6b45a380>"
      ]
     },
     "execution_count": 4,
     "metadata": {},
     "output_type": "execute_result"
    }
   ],
   "source": [
    "df"
   ]
  },
  {
   "cell_type": "code",
   "execution_count": 5,
   "metadata": {},
   "outputs": [],
   "source": [
    "from awsglue import DynamicFrame\n",
    "\n",
    "dyf = DynamicFrame.fromDF(df, glueContext, \"transformed_dyf\")"
   ]
  },
  {
   "cell_type": "code",
   "execution_count": 5,
   "metadata": {},
   "outputs": [
    {
     "name": "stdout",
     "output_type": "stream",
     "text": [
      "root\n",
      "|-- claim_id: int\n",
      "|-- policy_holder_id: int\n",
      "|-- provider_id: int\n",
      "|-- date_of_service: string\n",
      "|-- procedure: string\n",
      "|-- total_procedure_cost: float\n",
      "|-- medibank_pays: float\n",
      "|-- medicare_pays: float\n",
      "|-- excess: float\n",
      "|-- out_of_pocket: float\n",
      "\n"
     ]
    }
   ],
   "source": [
    "df.printSchema()"
   ]
  },
  {
   "cell_type": "code",
   "execution_count": 16,
   "metadata": {},
   "outputs": [],
   "source": [
    "import numpy\n",
    "# flatten the outputs with numpy\n",
    "dfs = numpy.array(outputs).flatten()[::2]\n",
    "paths = numpy.array(outputs).flatten()[1::2]"
   ]
  },
  {
   "cell_type": "code",
   "execution_count": 6,
   "metadata": {},
   "outputs": [
    {
     "name": "stderr",
     "output_type": "stream",
     "text": [
      "Couldn't create crawler. Here's why: AlreadyExistsException: 618572314333:test-raw already exists\n"
     ]
    },
    {
     "name": "stdout",
     "output_type": "stream",
     "text": [
      "Waiting for crawler to finish......................."
     ]
    },
    {
     "ename": "Exception",
     "evalue": "Crawler timed out",
     "output_type": "error",
     "traceback": [
      "\u001b[0;31m---------------------------------------------------------------------------\u001b[0m",
      "\u001b[0;31mException\u001b[0m                                 Traceback (most recent call last)",
      "Cell \u001b[0;32mIn[6], line 10\u001b[0m\n\u001b[1;32m      6\u001b[0m glue\u001b[39m.\u001b[39mstart_crawler(example_path)\n\u001b[1;32m      8\u001b[0m \u001b[39m############## Wait for crawler to finish #####################\u001b[39;00m\n\u001b[0;32m---> 10\u001b[0m glue\u001b[39m.\u001b[39;49mwait_for_crawler(example_path)\n\u001b[1;32m     13\u001b[0m \u001b[39m############## After crawlers finish. #####################\u001b[39;00m\n\u001b[1;32m     15\u001b[0m \u001b[39mfor\u001b[39;00m path \u001b[39min\u001b[39;00m [example_path]:\n",
      "File \u001b[0;32m~/project_lf/ETL-TDD/automation/glue.py:158\u001b[0m, in \u001b[0;36mwait_for_crawler\u001b[0;34m(self, path)\u001b[0m\n\u001b[1;32m    156\u001b[0m         if int(finish) > 120:\n\u001b[1;32m    157\u001b[0m             raise Exception('Crawler timed out')\n\u001b[0;32m--> 158\u001b[0m         else:\n\u001b[1;32m    159\u001b[0m             print('.', end='')\n\u001b[1;32m    162\u001b[0m def delete_crawler(self, path):\n",
      "\u001b[0;31mException\u001b[0m: Crawler timed out"
     ]
    }
   ],
   "source": [
    "example_path = \"s3://test-lf-wm/etl/raw/claim_db/claim/full/202306042339/\"\n",
    "\n",
    "# Crawl\n",
    "glue.create_crawler(example_path)\n",
    "\n",
    "glue.start_crawler(example_path)\n",
    "\n",
    "############## Wait for crawler to finish #####################\n",
    "\n",
    "glue.wait_for_crawler(example_path)\n",
    "\n",
    "\n",
    "############## After crawlers finish. #####################\n",
    "\n",
    "for path in [example_path]:\n",
    "     \n",
    "    try: \n",
    "        response = databrew.create_dataset(path)\n",
    "\n",
    "    except Exception as e:\n",
    "        print(e)\n",
    "        \n",
    "    try: \n",
    "        response = databrew.create_profile_job(path)\n",
    "    except Exception as e:\n",
    "        print(e)\n",
    "        \n",
    "    try: \n",
    "        pass\n",
    "        # response = databrew.start_job_run(path)\n",
    "    except Exception as e:\n",
    "        print(e)\n",
    "    \n",
    "############## Wait for job to finish #####################\n",
    "\n",
    "databrew.wait_for_job(example_path)\n",
    "\n",
    "for path in [path]:\n",
    "    print(f\"You can view the data profile for {path} here:\\n\\t{databrew.get_profile_link(path)}\")\n",
    "\n",
    "############## Use data profile. #####################\n",
    "\n",
    "# databrew.get_dq_results(path)\n"
   ]
  },
  {
   "cell_type": "code",
   "execution_count": 22,
   "metadata": {},
   "outputs": [
    {
     "name": "stderr",
     "output_type": "stream",
     "text": [
      "                                                                                \r"
     ]
    },
    {
     "name": "stdout",
     "output_type": "stream",
     "text": [
      "+--------+----------------+-----------+---------------+----------+--------------------+-------------+-------------+------+-------------+\n",
      "|claim_id|policy_holder_id|provider_id|date_of_service| procedure|total_procedure_cost|medibank_pays|medicare_pays|excess|out_of_pocket|\n",
      "+--------+----------------+-----------+---------------+----------+--------------------+-------------+-------------+------+-------------+\n",
      "|  154100|          536110|     739426|     2022-07-17|Ultrasound|             2295.05|      1377.03|       459.01|229.51|       229.50|\n",
      "|  325213|          794772|     849574|     2021-06-15|Ultrasound|             4990.06|      2994.04|       998.01|499.01|       499.00|\n",
      "|  103560|          375441|     558433|     2023-04-16|       MRI|             2801.21|      1680.73|       560.24|280.12|       280.12|\n",
      "|  765284|          295528|     558433|     2022-02-20|Ultrasound|             1730.48|      1038.29|       346.10|173.05|       173.04|\n",
      "|   77324|          953938|     945989|     2023-04-26|     X-Ray|             4822.81|      2893.69|       964.56|482.28|       482.28|\n",
      "|  942500|          229053|     945989|     2023-01-18|Ultrasound|             1509.52|       905.71|       301.90|150.95|       150.96|\n",
      "|  891786|          794772|     945989|     2021-07-11|   CT Scan|             1653.53|       992.12|       330.71|165.35|       165.35|\n",
      "|  717209|          536110|     849574|     2022-09-17|     X-Ray|             1028.02|       616.81|       205.60|102.80|       102.81|\n",
      "|  346236|           42450|     558433|     2022-08-04|Ultrasound|             4908.37|      2945.02|       981.67|490.84|       490.84|\n",
      "|  495077|          509532|     631140|     2022-03-15|Blood Test|              540.14|       324.08|       108.03| 54.01|        54.02|\n",
      "|  587007|          792518|     739426|     2022-01-19|     X-Ray|             4624.57|      2774.74|       924.91|462.46|       462.46|\n",
      "|  105592|          648406|     558433|     2021-11-02|       ECG|             4623.10|      2773.86|       924.62|462.31|       462.31|\n",
      "|  370977|          934973|     631140|     2022-06-02|       ECG|             2670.41|      1602.25|       534.08|267.04|       267.04|\n",
      "|  455262|          611720|     739426|     2023-03-14|     X-Ray|             4485.69|      2691.41|       897.14|448.57|       448.57|\n",
      "|  331556|          952225|     631140|     2022-04-23|Ultrasound|             1448.53|       869.12|       289.71|144.85|       144.85|\n",
      "|  640561|          375441|     849574|     2021-06-04|Blood Test|             1689.19|      1013.51|       337.84|168.92|       168.92|\n",
      "|  671532|          933488|     631140|     2022-05-12|Ultrasound|             3187.72|      1912.63|       637.54|318.77|       318.78|\n",
      "|  957361|          838234|     739426|     2022-08-29|     X-Ray|              179.42|       107.65|        35.88| 17.94|        17.95|\n",
      "|  214410|          509532|     558433|     2021-07-23|       ECG|             1180.26|       708.16|       236.05|118.03|       118.02|\n",
      "|  579363|           99437|     739426|     2021-11-29|       MRI|             2188.04|      1312.82|       437.61|218.80|       218.81|\n",
      "+--------+----------------+-----------+---------------+----------+--------------------+-------------+-------------+------+-------------+\n",
      "only showing top 20 rows\n",
      "\n"
     ]
    }
   ],
   "source": [
    "dfs[0].show()"
   ]
  },
  {
   "cell_type": "code",
   "execution_count": 4,
   "metadata": {},
   "outputs": [
    {
     "data": {
      "text/plain": [
       "'s3://test-lf-wm/etl/raw/claim_db/claim/full/202306041621/'"
      ]
     },
     "execution_count": 4,
     "metadata": {},
     "output_type": "execute_result"
    }
   ],
   "source": [
    "path"
   ]
  },
  {
   "cell_type": "code",
   "execution_count": 7,
   "metadata": {},
   "outputs": [],
   "source": [
    "from awsglue import DynamicFrame\n",
    "\n",
    "\n",
    "transformed_dyf = DynamicFrame.fromDF(outputs[0][0], glueContext, \"transformed_dyf\")"
   ]
  }
 ],
 "metadata": {
  "kernelspec": {
   "display_name": "Python 3",
   "language": "python",
   "name": "python3"
  },
  "language_info": {
   "codemirror_mode": {
    "name": "ipython",
    "version": 3
   },
   "file_extension": ".py",
   "mimetype": "text/x-python",
   "name": "python",
   "nbconvert_exporter": "python",
   "pygments_lexer": "ipython3",
   "version": "3.10.2"
  },
  "orig_nbformat": 4
 },
 "nbformat": 4,
 "nbformat_minor": 2
}

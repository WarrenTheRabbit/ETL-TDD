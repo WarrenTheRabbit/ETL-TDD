{
 "cells": [
  {
   "attachments": {},
   "cell_type": "markdown",
   "metadata": {},
   "source": [
    "## Delete all staged files"
   ]
  },
  {
   "cell_type": "code",
   "execution_count": 2,
   "metadata": {},
   "outputs": [],
   "source": [
    "\n",
    "import boto3\n",
    "s3 = boto3.resource('s3')\n",
    "bucket = s3.Bucket('test-project-wm')\n",
    "\n",
    "# ********************* RESET RAW *********************\n",
    "for obj in bucket.objects.filter(Prefix='etl/raw'):\n",
    "    s3.Object(bucket.name,obj.key).delete()\n",
    "\n",
    "# **********************RESET ACCESS ******************\n",
    "for obj in bucket.objects.filter(Prefix='etl/access'):\n",
    "    s3.Object(bucket.name,obj.key).delete()\n",
    "\n",
    "# ******************** RESET OPTIMISED ****************\n",
    "for obj in bucket.objects.filter(Prefix='etl/optimised'):\n",
    "    s3.Object(bucket.name,obj.key).delete()"
   ]
  },
  {
   "attachments": {},
   "cell_type": "markdown",
   "metadata": {},
   "source": [
    "## Upload latest version of .zip dependencies to `code/dependencies` folder"
   ]
  },
  {
   "cell_type": "code",
   "execution_count": 5,
   "metadata": {},
   "outputs": [
    {
     "name": "stdout",
     "output_type": "stream",
     "text": [
      "upload: ../libraries.zip to s3://test-project-wm/code/dependencies/libraries.zip\n"
     ]
    }
   ],
   "source": [
    "!aws s3 rm s3://test-project-wm/code/dependencies/libraries.zip\n",
    "!aws s3 cp /home/glue_user/project_lf/ETL-TDD/libraries.zip s3://test-project-wm/code/dependencies/libraries.zip"
   ]
  },
  {
   "attachments": {},
   "cell_type": "markdown",
   "metadata": {},
   "source": [
    "## Upload latest version of .py batch files to `code/batches`"
   ]
  },
  {
   "cell_type": "code",
   "execution_count": 8,
   "metadata": {},
   "outputs": [
    {
     "name": "stdout",
     "output_type": "stream",
     "text": [
      "delete: s3://test-project-wm/code/batches/batch1.py\n",
      "delete: s3://test-project-wm/code/batches/batch2.py\n",
      "delete: s3://test-project-wm/code/batches/batch5.py\n",
      "delete: s3://test-project-wm/code/batches/batch4.py\n",
      "delete: s3://test-project-wm/code/batches/batch3.py\n"
     ]
    }
   ],
   "source": [
    "!aws s3 rm --recursive s3://test-project-wm/code/batches/"
   ]
  },
  {
   "cell_type": "code",
   "execution_count": 9,
   "metadata": {},
   "outputs": [
    {
     "name": "stdout",
     "output_type": "stream",
     "text": [
      "Uploaded 5 files to s3://test-project-wm/code/batches/\n"
     ]
    }
   ],
   "source": [
    "import boto3\n",
    "\n",
    "# Create an S3 client\n",
    "s3_client = boto3.client('s3', region_name='ap-southeast-1')\n",
    "\n",
    "# Set the bucket and prefix\n",
    "bucket = 'test-project-wm'\n",
    "prefix = 'code/batches/'\n",
    "\n",
    "# Set the list of files to upload\n",
    "files = [\n",
    "    '/home/glue_user/project_lf/ETL-TDD/batch1.py',\n",
    "    '/home/glue_user/project_lf/ETL-TDD/batch2.py',\n",
    "    '/home/glue_user/project_lf/ETL-TDD/batch3.py',\n",
    "    '/home/glue_user/project_lf/ETL-TDD/batch4.py',\n",
    "    '/home/glue_user/project_lf/ETL-TDD/batch5.py',\n",
    "]\n",
    "\n",
    "# Upload each file to the S3 bucket\n",
    "for file_path in files:\n",
    "    # Get the file name\n",
    "    file_name = file_path.split('/')[-1]\n",
    "\n",
    "    # Set the object key\n",
    "    key = f'{prefix}{file_name}'\n",
    "\n",
    "    # Upload the file\n",
    "    s3_client.upload_file(file_path, bucket, key)\n",
    "\n",
    "print(f'Uploaded {len(files)} files to s3://{bucket}/{prefix}')"
   ]
  },
  {
   "cell_type": "markdown",
   "metadata": {},
   "source": [
    "## Create a job for every script object"
   ]
  },
  {
   "cell_type": "code",
   "execution_count": 11,
   "metadata": {},
   "outputs": [],
   "source": [
    "s3_resource = boto3.resource('s3')\n",
    "bucket = 'test-project-wm'\n",
    "prefix = 'code/batches/'\n",
    "objects = s3_resource.Bucket(bucket).objects.filter(Prefix=prefix)"
   ]
  },
  {
   "cell_type": "code",
   "execution_count": 12,
   "metadata": {},
   "outputs": [
    {
     "name": "stdout",
     "output_type": "stream",
     "text": [
      "code/batches/batch1.py\n",
      "{'Name': 'batch1', 'ResponseMetadata': {'RequestId': '71913a57-4cd4-4160-9cdb-b88ccf782cb0', 'HTTPStatusCode': 200, 'HTTPHeaders': {'date': 'Wed, 07 Jun 2023 12:12:09 GMT', 'content-type': 'application/x-amz-json-1.1', 'content-length': '17', 'connection': 'keep-alive', 'x-amzn-requestid': '71913a57-4cd4-4160-9cdb-b88ccf782cb0'}, 'RetryAttempts': 0}}\n",
      "code/batches/batch2.py\n",
      "{'Name': 'batch2', 'ResponseMetadata': {'RequestId': '510432f9-b5a1-42e9-a15b-6c5aa9d31ac1', 'HTTPStatusCode': 200, 'HTTPHeaders': {'date': 'Wed, 07 Jun 2023 12:12:09 GMT', 'content-type': 'application/x-amz-json-1.1', 'content-length': '17', 'connection': 'keep-alive', 'x-amzn-requestid': '510432f9-b5a1-42e9-a15b-6c5aa9d31ac1'}, 'RetryAttempts': 0}}\n",
      "code/batches/batch3.py\n",
      "{'Name': 'batch3', 'ResponseMetadata': {'RequestId': 'a369f4ba-8ae2-4281-a8c1-3392a3ed424f', 'HTTPStatusCode': 200, 'HTTPHeaders': {'date': 'Wed, 07 Jun 2023 12:12:09 GMT', 'content-type': 'application/x-amz-json-1.1', 'content-length': '17', 'connection': 'keep-alive', 'x-amzn-requestid': 'a369f4ba-8ae2-4281-a8c1-3392a3ed424f'}, 'RetryAttempts': 0}}\n",
      "code/batches/batch4.py\n",
      "{'Name': 'batch4', 'ResponseMetadata': {'RequestId': '9575d41e-5f81-4b4f-a439-754c60b1a483', 'HTTPStatusCode': 200, 'HTTPHeaders': {'date': 'Wed, 07 Jun 2023 12:12:09 GMT', 'content-type': 'application/x-amz-json-1.1', 'content-length': '17', 'connection': 'keep-alive', 'x-amzn-requestid': '9575d41e-5f81-4b4f-a439-754c60b1a483'}, 'RetryAttempts': 0}}\n",
      "code/batches/batch5.py\n",
      "{'Name': 'batch5', 'ResponseMetadata': {'RequestId': 'ceeedfc9-6a61-46cb-9847-6e3c7b9b7f8e', 'HTTPStatusCode': 200, 'HTTPHeaders': {'date': 'Wed, 07 Jun 2023 12:12:09 GMT', 'content-type': 'application/x-amz-json-1.1', 'content-length': '17', 'connection': 'keep-alive', 'x-amzn-requestid': 'ceeedfc9-6a61-46cb-9847-6e3c7b9b7f8e'}, 'RetryAttempts': 0}}\n"
     ]
    }
   ],
   "source": [
    "glue_client = boto3.client('glue', region_name='ap-southeast-2')\n",
    "job_names = []\n",
    "for s3_object in objects:\n",
    "    print(s3_object.key)\n",
    "    \n",
    "    # Create an AWS Glue client\n",
    "\n",
    "    # Set the parameters for the new Glue job\n",
    "    glue_role = 'data-quality-lf'\n",
    "    script_location = f's3://test-project-wm/{s3_object.key}'\n",
    "    job_name = script_location.split('/')[-1].split('.')[0]\n",
    "    extra_py_files = 's3://test-project-wm/code/dependencies/libraries.zip'\n",
    "    glue_version = '4.0'\n",
    "    additional_python_modules = \"holidays\"\n",
    "\n",
    "    try:\n",
    "        # Create the new Glue job\n",
    "        response = glue_client.create_job(\n",
    "            Name=job_name,\n",
    "            Role=glue_role,\n",
    "            Command={'Name': 'glueetl', 'ScriptLocation': script_location},\n",
    "            GlueVersion=glue_version,\n",
    "            DefaultArguments={\n",
    "                '--extra-py-files': extra_py_files,\n",
    "                '--additional-python-modules': additional_python_modules\n",
    "            },\n",
    "            WorkerType='G.1X',\n",
    "            NumberOfWorkers=2\n",
    "        )\n",
    "        print(response)\n",
    "    except Exception as e:\n",
    "        print(\"Skipping job creation for\", job_name, e)\n",
    "    \n",
    "    job_names.append(job_name)"
   ]
  }
 ],
 "metadata": {
  "kernelspec": {
   "display_name": "Python 3",
   "language": "python",
   "name": "python3"
  },
  "language_info": {
   "codemirror_mode": {
    "name": "ipython",
    "version": 3
   },
   "file_extension": ".py",
   "mimetype": "text/x-python",
   "name": "python",
   "nbconvert_exporter": "python",
   "pygments_lexer": "ipython3",
   "version": "3.10.2"
  },
  "orig_nbformat": 4
 },
 "nbformat": 4,
 "nbformat_minor": 2
}

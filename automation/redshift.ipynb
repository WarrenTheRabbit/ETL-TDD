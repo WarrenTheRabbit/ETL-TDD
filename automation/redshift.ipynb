{
 "cells": [
  {
   "cell_type": "code",
   "execution_count": 1,
   "metadata": {},
   "outputs": [],
   "source": [
    "test_output = [\n",
    "    ('df1','s3://test-lf-ap/etl/optimised/claim/full/202306061945/'),\n",
    "    ('df2','s3://test-lf-ap/etl/optimised/policyholder/full/202306061945/'),\n",
    "    ('df3','s3://test-lf-ap/etl/optimised/provider/full/202306061945/')]"
   ]
  },
  {
   "cell_type": "code",
   "execution_count": 2,
   "metadata": {},
   "outputs": [],
   "source": [
    "import sys\n",
    "sys.path.append('/home/glue_user/project_lf/ETL-TDD')\n",
    "\n",
    "from automation.databrew import DataBrew\n",
    "from automation.redshift import Redshift"
   ]
  },
  {
   "cell_type": "code",
   "execution_count": null,
   "metadata": {},
   "outputs": [],
   "source": [
    "databrew = DataBrew(region_name='ap-southeast-2')\n",
    "\n",
    "databrew.sns.publish(\"s3://test-lf-ap/etl/optimised/claim/full/202306061945/\")"
   ]
  },
  {
   "cell_type": "code",
   "execution_count": 3,
   "metadata": {},
   "outputs": [],
   "source": [
    "paths = [\n",
    "    \"s3://test-lf-ap/etl/optimised/claim/full/202306061u845/\", \n",
    "    \"s3://test-lf-ap/etl/optimised/claim/full/202306061945/\", \n",
    "    \"s3://test-lf-ap/etl/optimised/claim/full/202306061945/\",\n",
    "    's3://test-lf-ap/etl/optimised/claim/full/202306061945/',\n",
    "    's3://test-lf-ap/etl/optimised/policyholder/full/202306061945/',\n",
    "    's3://test-lf-ap/etl/optimised/provider/full/202306061945/'\n",
    "]"
   ]
  },
  {
   "cell_type": "code",
   "execution_count": 4,
   "metadata": {},
   "outputs": [
    {
     "ename": "AttributeError",
     "evalue": "'Redshift' object has no attribute 'sns'",
     "output_type": "error",
     "traceback": [
      "\u001b[0;31m---------------------------------------------------------------------------\u001b[0m",
      "\u001b[0;31mAttributeError\u001b[0m                            Traceback (most recent call last)",
      "Cell \u001b[0;32mIn[4], line 2\u001b[0m\n\u001b[1;32m      1\u001b[0m redshift \u001b[39m=\u001b[39m Redshift()\n\u001b[0;32m----> 2\u001b[0m message \u001b[39m=\u001b[39m redshift\u001b[39m.\u001b[39;49msns\u001b[39m.\u001b[39mpublish(paths)\n",
      "\u001b[0;31mAttributeError\u001b[0m: 'Redshift' object has no attribute 'sns'"
     ]
    }
   ],
   "source": [
    "redshift = Redshift()\n",
    "message = redshift.sns.publish(paths)"
   ]
  },
  {
   "cell_type": "code",
   "execution_count": 9,
   "metadata": {},
   "outputs": [
    {
     "name": "stdout",
     "output_type": "stream",
     "text": [
      "11:32 @ 2023/06/07\n"
     ]
    }
   ],
   "source": []
  },
  {
   "cell_type": "code",
   "execution_count": 4,
   "metadata": {},
   "outputs": [],
   "source": [
    "representation = [\"COPY claim\\n    FROM 's3://test-lf-ap/etl/optimised/claim/full/202306061945/'\\n    IAM_ROLE 'arn:aws:iam::618572314333:role/service-role/AmazonRedshift-CommandsAccessRole-20230513T114656'\\n    FORMAT AS PARQUET;\", \"COPY claim\\n    FROM 's3://test-lf-ap/etl/optimised/claim/full/202306061945/'\\n    IAM_ROLE 'arn:aws:iam::618572314333:role/service-role/AmazonRedshift-CommandsAccessRole-20230513T114656'\\n    FORMAT AS PARQUET;\", \"COPY claim\\n    FROM 's3://test-lf-ap/etl/optimised/claim/full/202306061945/'\\n    IAM_ROLE 'arn:aws:iam::618572314333:role/service-role/AmazonRedshift-CommandsAccessRole-20230513T114656'\\n    FORMAT AS PARQUET;\"]"
   ]
  },
  {
   "cell_type": "code",
   "execution_count": 7,
   "metadata": {},
   "outputs": [
    {
     "name": "stdout",
     "output_type": "stream",
     "text": [
      "COPY claim\n",
      "    FROM 's3://test-lf-ap/etl/optimised/claim/full/202306061945/'\n",
      "    IAM_ROLE 'arn:aws:iam::618572314333:role/service-role/AmazonRedshift-CommandsAccessRole-20230513T114656'\n",
      "    FORMAT AS PARQUET;\n",
      "COPY claim\n",
      "    FROM 's3://test-lf-ap/etl/optimised/claim/full/202306061945/'\n",
      "    IAM_ROLE 'arn:aws:iam::618572314333:role/service-role/AmazonRedshift-CommandsAccessRole-20230513T114656'\n",
      "    FORMAT AS PARQUET;\n",
      "COPY claim\n",
      "    FROM 's3://test-lf-ap/etl/optimised/claim/full/202306061945/'\n",
      "    IAM_ROLE 'arn:aws:iam::618572314333:role/service-role/AmazonRedshift-CommandsAccessRole-20230513T114656'\n",
      "    FORMAT AS PARQUET;\n"
     ]
    }
   ],
   "source": [
    "print('\\n'.join(list(representation)))"
   ]
  },
  {
   "cell_type": "code",
   "execution_count": 5,
   "metadata": {},
   "outputs": [
    {
     "data": {
      "text/plain": [
       "'__main__'"
      ]
     },
     "execution_count": 5,
     "metadata": {},
     "output_type": "execute_result"
    }
   ],
   "source": []
  },
  {
   "cell_type": "code",
   "execution_count": 9,
   "metadata": {},
   "outputs": [
    {
     "name": "stdout",
     "output_type": "stream",
     "text": [
      "None\n"
     ]
    },
    {
     "name": "stderr",
     "output_type": "stream",
     "text": [
      "<>:1: SyntaxWarning: 'NoneType' object is not callable; perhaps you missed a comma?\n",
      "<>:1: SyntaxWarning: 'NoneType' object is not callable; perhaps you missed a comma?\n",
      "/tmp/ipykernel_890259/2611504750.py:1: SyntaxWarning: 'NoneType' object is not callable; perhaps you missed a comma?\n",
      "  print(None and None())\n"
     ]
    }
   ],
   "source": [
    "print(None and None())"
   ]
  }
 ],
 "metadata": {
  "kernelspec": {
   "display_name": "Python 3",
   "language": "python",
   "name": "python3"
  },
  "language_info": {
   "codemirror_mode": {
    "name": "ipython",
    "version": 3
   },
   "file_extension": ".py",
   "mimetype": "text/x-python",
   "name": "python",
   "nbconvert_exporter": "python",
   "pygments_lexer": "ipython3",
   "version": "3.10.2"
  },
  "orig_nbformat": 4
 },
 "nbformat": 4,
 "nbformat_minor": 2
}

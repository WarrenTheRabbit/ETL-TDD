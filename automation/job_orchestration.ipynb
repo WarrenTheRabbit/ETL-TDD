{
 "cells": [
  {
   "cell_type": "code",
   "execution_count": 3,
   "metadata": {},
   "outputs": [],
   "source": [
    "import boto3 \n",
    "from automation.glue_wrapper import GlueWrapper"
   ]
  },
  {
   "attachments": {},
   "cell_type": "markdown",
   "metadata": {},
   "source": [
    "## Load source data into Landing if needed"
   ]
  },
  {
   "cell_type": "code",
   "execution_count": 99,
   "metadata": {},
   "outputs": [
    {
     "name": "stdout",
     "output_type": "stream",
     "text": [
      "upload: temp/202305211851-claim-full.csv to s3://project-lf/etl/landing/claim_db/claim/full/202305211851-claim-full.csv\n",
      "upload: temp/202305221132-policyholder-full.csv to s3://project-lf/etl/landing/claim_db/policyholder/full/202305221132-policyholder-full.csv\n",
      "upload: temp/202305221136-provider-full.csv to s3://project-lf/etl/landing/claim_db/provider/full/202305221136-provider-full.csv\n"
     ]
    }
   ],
   "source": [
    "# /home/glue_user/project_lf/ETL-TDD/temp/202305211851-claim-full.csv\n",
    "# /home/glue_user/project_lf/ETL-TDD/temp/202305221132-policyholder-full.csv\n",
    "# /home/glue_user/project_lf/ETL-TDD/temp/202305221136-provider-full.csv\n",
    "\n",
    "!aws s3 cp /home/glue_user/project_lf/ETL-TDD/temp/202305211851-claim-full.csv s3://project-lf/etl/landing/claim_db/claim/full/202305211851-claim-full.csv\n",
    "\n",
    "!aws s3 cp /home/glue_user/project_lf/ETL-TDD/temp/202305221132-policyholder-full.csv s3://project-lf/etl/landing/claim_db/policyholder/full/202305221132-policyholder-full.csv\n",
    "\n",
    "!aws s3 cp /home/glue_user/project_lf/ETL-TDD/temp/202305221136-provider-full.csv s3://project-lf/etl/landing/claim_db/provider/full/202305221136-provider-full.csv"
   ]
  },
  {
   "attachments": {},
   "cell_type": "markdown",
   "metadata": {},
   "source": [
    "## Reset every staging tier except for Landing"
   ]
  },
  {
   "cell_type": "code",
   "execution_count": 94,
   "metadata": {},
   "outputs": [
    {
     "name": "stdout",
     "output_type": "stream",
     "text": [
      "delete: s3://project-lf/etl/access/claim_db/policyholder/full/202306020029/part-00000-79e063c3-76d4-4096-8d1d-0ab6299992b6-c000.snappy.parquet\n",
      "delete: s3://project-lf/etl/access/claim_db/provider/full/202306020038/part-00000-63ca972b-5cf3-4c3d-853d-f6b132b95c52-c000.snappy.parquet\n",
      "delete: s3://project-lf/etl/access/claim_db/claim/full/202306020029/part-00000-eb404331-4bca-4933-acdc-34a99d27e8bd-c000.snappy.parquet\n",
      "delete: s3://project-lf/etl/access/claim_db/policyholder/full/202306020021/part-00000-40827f9f-963d-438e-9288-f09a783c755a-c000.snappy.parquet\n",
      "delete: s3://project-lf/etl/access/claim_db/policyholder/full/202306020038/part-00000-52fda0c6-49a8-42e1-8e9b-27212710e988-c000.snappy.parquet\n",
      "delete: s3://project-lf/etl/access/claim_db/provider/full/202306020021/part-00000-2c0b4719-cb90-4648-b7ad-be6a399309e4-c000.snappy.parquet\n",
      "delete: s3://project-lf/etl/access/claim_db/claim/full/202306020021/part-00000-b8df7cc2-9071-45e2-95dc-3e856a430801-c000.snappy.parquet\n",
      "delete: s3://project-lf/etl/access/claim_db/provider/full/202306020029/part-00000-6d580c13-f0f7-4fde-8cb3-dd90dd10957b-c000.snappy.parquet\n",
      "delete: s3://project-lf/etl/access/claim_db/claim/full/202306020039/part-00000-69d366a2-e2aa-4564-bcfc-175f7e12a20e-c000.snappy.parquet\n",
      "delete: s3://project-lf/etl/optimised/date_dim/full/202306020037/part-00000-8cbffcee-9197-4159-9f05-ea41794ebc52-c000.snappy.parquet\n",
      "delete: s3://project-lf/etl/optimised/date_dim/full/202306020037/part-00001-8cbffcee-9197-4159-9f05-ea41794ebc52-c000.snappy.parquet\n",
      "delete: s3://project-lf/etl/optimised/date_dim/full/202306020037/part-00002-8cbffcee-9197-4159-9f05-ea41794ebc52-c000.snappy.parquet\n",
      "delete: s3://project-lf/etl/optimised/date_dim/full/202306020037/part-00003-8cbffcee-9197-4159-9f05-ea41794ebc52-c000.snappy.parquet\n",
      "delete: s3://project-lf/etl/optimised/location_dim/full/202306020023/part-00000-acfcf563-bafb-42f2-88c9-7b9e963a9d71-c000.snappy.parquet\n",
      "delete: s3://project-lf/etl/optimised/location_dim/full/202306020040/part-00000-a2755fe7-d046-472b-9610-dc958136ba28-c000.snappy.parquet\n",
      "delete: s3://project-lf/etl/optimised/policyholder_dim/full/202306020049/part-00000-30f52538-d8b0-45b9-8c7f-07ae8639f3e9-c000.snappy.parquet\n",
      "delete: s3://project-lf/etl/optimised/procedure_dim/full/202306020040/part-00000-2f170449-4528-4c8b-aac4-f49fe3526064-c000.snappy.parquet\n",
      "delete: s3://project-lf/etl/optimised/procedure_dim/full/202306020022/part-00000-c1f97cb8-728d-41ad-b7d1-944422b58ce0-c000.snappy.parquet\n",
      "delete: s3://project-lf/etl/optimised/provider_dim/full/202306020023/part-00000-511b1516-9f0b-4b55-819b-10a82d10d578-c000.snappy.parquet\n",
      "delete: s3://project-lf/etl/raw/\n",
      "delete: s3://project-lf/etl/optimised/provider_dim/full/202306020041/part-00000-49033009-6adb-414a-bf86-b9fb6a02cc0f-c000.snappy.parquet\n",
      "delete: s3://project-lf/etl/raw/claim_db/claim/full/202306020020/part-00000-6cdb6156-8614-47b6-ba27-ac7ac5871ff0-c000.snappy.parquet\n",
      "delete: s3://project-lf/etl/raw/claim_db/claim/full/202306020028/part-00000-a15a36ce-b7b3-4bd3-8149-fabffa46600a-c000.snappy.parquet\n",
      "delete: s3://project-lf/etl/raw/claim_db/claim/full/202306020030/part-00000-7c2e9443-7b7c-4a89-ab0a-521e9d1b3bf8-c000.snappy.parquet\n",
      "delete: s3://project-lf/etl/raw/claim_db/claim/full/202306020037/part-00000-4c82a66f-3ab5-40b5-be0f-f4ea2247196b-c000.snappy.parquet\n",
      "delete: s3://project-lf/etl/raw/claim_db/policyholder/full/202306020028/part-00000-746acd24-b9eb-42a4-8df5-ed15acf9c8e6-c000.snappy.parquet\n",
      "delete: s3://project-lf/etl/raw/claim_db/policyholder/full/202306020037/part-00000-95fd04b5-a52b-4b99-b872-6ba8e8f8c078-c000.snappy.parquet\n",
      "delete: s3://project-lf/etl/raw/claim_db/policyholder/full/202306020020/part-00000-347eb891-6cc6-4a8e-893f-b45a9b453f86-c000.snappy.parquet\n",
      "delete: s3://project-lf/etl/raw/claim_db/policyholder/full/202306020030/part-00000-2e0412f9-826e-4c22-9e8d-34992a3b12cf-c000.snappy.parquet\n",
      "delete: s3://project-lf/etl/raw/claim_db/provider/full/202306020020/part-00000-582df0af-e3c9-449e-a1ac-70c882c45050-c000.snappy.parquet\n",
      "delete: s3://project-lf/etl/raw/claim_db/provider/full/202306020028/part-00000-f412f29a-145f-4287-af7e-ef7522b9d175-c000.snappy.parquet\n",
      "delete: s3://project-lf/etl/raw/claim_db/provider/full/202306020030/part-00000-f1e957ee-4223-41af-ab5b-d56d6d112290-c000.snappy.parquet\n",
      "delete: s3://project-lf/etl/raw/claim_db/provider/full/202306020037/part-00000-a55628b7-bd3f-4580-bae5-48a00dfe3449-c000.snappy.parquet\n"
     ]
    }
   ],
   "source": [
    "!aws s3 rm s3://project-lf/etl/raw/*\n",
    "!aws s3 rm s3://project-lf/etl/access/*\n",
    "!aws s3 rm s3://project-lf/etl/optimised/*\n"
   ]
  },
  {
   "attachments": {},
   "cell_type": "markdown",
   "metadata": {},
   "source": [
    "## Delete every glue job"
   ]
  },
  {
   "cell_type": "code",
   "execution_count": 87,
   "metadata": {},
   "outputs": [],
   "source": [
    "# delete all glue ETL jobs\n",
    "glue = boto3.client('glue', region_name='us-east-1')\n",
    "jobs = glue.get_jobs()\n",
    "for job in jobs['Jobs']:\n",
    "    if job['Name'].startswith('stage_'):\n",
    "        glue.delete_job(JobName=job['Name'])"
   ]
  },
  {
   "attachments": {},
   "cell_type": "markdown",
   "metadata": {},
   "source": [
    "## Refresh every .py job file in `code/jobs/` and `code/dependencies` "
   ]
  },
  {
   "cell_type": "code",
   "execution_count": null,
   "metadata": {},
   "outputs": [],
   "source": [
    "# delete the libraries.zip file at s3://project-lf/code/libraries.zip\n",
    "!aws s3 rm s3://project-lf/code/libraries.zip\n",
    "\n",
    "# create a new zip file\n",
    "!zip -r libraries.zip *\n",
    "\n",
    "# write cli that copies libraries.zip to s3://project-lf/code/libraries.zip\n",
    "!aws s3 cp libraries.zip s3://project-lf/code/dependencies/libraries.zip\n",
    "\n",
    "# delete everything but the libraries.zip file at s3://project-lf/code/\n",
    "!aws s3 rm s3://project-lf/code/ --recursive --exclude \"libraries.zip\""
   ]
  },
  {
   "cell_type": "code",
   "execution_count": 98,
   "metadata": {},
   "outputs": [
    {
     "name": "stdout",
     "output_type": "stream",
     "text": [
      "upload: ./libraries.zip to s3://project-lf/code/dependencies/libraries.zip\n"
     ]
    }
   ],
   "source": [
    "# write cli that copies libraries.zip to s3://project-lf/code/libraries.zip\n",
    "!aws s3 cp libraries.zip s3://project-lf/code/dependencies/libraries.zip\n"
   ]
  },
  {
   "attachments": {},
   "cell_type": "markdown",
   "metadata": {},
   "source": [
    "## Upload .py job files to S3"
   ]
  },
  {
   "cell_type": "code",
   "execution_count": 84,
   "metadata": {},
   "outputs": [
    {
     "name": "stdout",
     "output_type": "stream",
     "text": [
      "Uploaded 13 files to s3://project-lf/code/jobs/\n"
     ]
    }
   ],
   "source": [
    "import boto3\n",
    "\n",
    "# Create an S3 client\n",
    "s3_client = boto3.client('s3')\n",
    "\n",
    "# Set the bucket and prefix\n",
    "bucket = 'project-lf'\n",
    "prefix = 'code/jobs/'\n",
    "\n",
    "# Set the list of files to upload\n",
    "files = [\n",
    "    '/home/glue_user/project_lf/ETL-TDD/stage_claim_into_access.py',\n",
    "    '/home/glue_user/project_lf/ETL-TDD/stage_claim_into_optimised.py',\n",
    "    '/home/glue_user/project_lf/ETL-TDD/stage_claim_into_raw.py',\n",
    "    '/home/glue_user/project_lf/ETL-TDD/stage_date_into_optimised.py',\n",
    "    '/home/glue_user/project_lf/ETL-TDD/stage_location_into_optimised.py',\n",
    "    '/home/glue_user/project_lf/ETL-TDD/stage_policyholder_into_access.py',\n",
    "    '/home/glue_user/project_lf/ETL-TDD/stage_policyholder_into_optimised.py',\n",
    "    '/home/glue_user/project_lf/ETL-TDD/stage_policyholder_into_raw.py',\n",
    "    '/home/glue_user/project_lf/ETL-TDD/stage_procedure_into_optimised.py',\n",
    "    '/home/glue_user/project_lf/ETL-TDD/stage_provider_into_access.py',\n",
    "    '/home/glue_user/project_lf/ETL-TDD/stage_provider_into_optimised.py',\n",
    "    '/home/glue_user/project_lf/ETL-TDD/stage_provider_into_raw.py',\n",
    "    '/home/glue_user/project_lf/ETL-TDD/stage_source_into_landing.py'\n",
    "]\n",
    "\n",
    "# Upload each file to the S3 bucket\n",
    "for file_path in files:\n",
    "    # Get the file name\n",
    "    file_name = file_path.split('/')[-1]\n",
    "\n",
    "    # Set the object key\n",
    "    key = f'{prefix}{file_name}'\n",
    "\n",
    "    # Upload the file\n",
    "    s3_client.upload_file(file_path, bucket, key)\n",
    "\n",
    "print(f'Uploaded {len(files)} files to s3://{bucket}/{prefix}')"
   ]
  },
  {
   "attachments": {},
   "cell_type": "markdown",
   "metadata": {},
   "source": [
    "## Initialise Glue session"
   ]
  },
  {
   "cell_type": "code",
   "execution_count": 77,
   "metadata": {},
   "outputs": [],
   "source": [
    "# for each script in s3://project-lf/code/jobs/ create a glue job\n",
    "import boto3\n",
    "\n",
    "# Create an AWS Glue client\n",
    "glue_client = boto3.client('glue', region_name='us-east-1')\n",
    "\n",
    "# Set the parameters for the new Glue job\n",
    "glue_role = 'data-quality-lf'\n"
   ]
  },
  {
   "attachments": {},
   "cell_type": "markdown",
   "metadata": {},
   "source": [
    "## Get a list of all script objects in `project-lf/code/jobs/`"
   ]
  },
  {
   "cell_type": "code",
   "execution_count": 86,
   "metadata": {},
   "outputs": [
    {
     "data": {
      "text/plain": [
       "[s3.ObjectSummary(bucket_name='project-lf', key='code/jobs/stage_claim_into_access.py'),\n",
       " s3.ObjectSummary(bucket_name='project-lf', key='code/jobs/stage_claim_into_optimised.py'),\n",
       " s3.ObjectSummary(bucket_name='project-lf', key='code/jobs/stage_claim_into_raw.py'),\n",
       " s3.ObjectSummary(bucket_name='project-lf', key='code/jobs/stage_date_into_optimised.py'),\n",
       " s3.ObjectSummary(bucket_name='project-lf', key='code/jobs/stage_location_into_optimised.py'),\n",
       " s3.ObjectSummary(bucket_name='project-lf', key='code/jobs/stage_policyholder_into_access.py'),\n",
       " s3.ObjectSummary(bucket_name='project-lf', key='code/jobs/stage_policyholder_into_optimised.py'),\n",
       " s3.ObjectSummary(bucket_name='project-lf', key='code/jobs/stage_policyholder_into_raw.py'),\n",
       " s3.ObjectSummary(bucket_name='project-lf', key='code/jobs/stage_procedure_into_optimised.py'),\n",
       " s3.ObjectSummary(bucket_name='project-lf', key='code/jobs/stage_provider_into_access.py'),\n",
       " s3.ObjectSummary(bucket_name='project-lf', key='code/jobs/stage_provider_into_optimised.py'),\n",
       " s3.ObjectSummary(bucket_name='project-lf', key='code/jobs/stage_provider_into_raw.py'),\n",
       " s3.ObjectSummary(bucket_name='project-lf', key='code/jobs/stage_source_into_landing.py')]"
      ]
     },
     "execution_count": 86,
     "metadata": {},
     "output_type": "execute_result"
    }
   ],
   "source": [
    "# get all keys in s3://project-lf/code/jobs/\n",
    "s3_resource = boto3.resource('s3')\n",
    "bucket = 'project-lf'\n",
    "prefix = 'code/jobs/'\n",
    "objects = s3_resource.Bucket(bucket).objects.filter(Prefix=prefix)\n",
    "list(objects)"
   ]
  },
  {
   "attachments": {},
   "cell_type": "markdown",
   "metadata": {},
   "source": [
    "## Create a job for every script object"
   ]
  },
  {
   "cell_type": "code",
   "execution_count": 88,
   "metadata": {},
   "outputs": [
    {
     "name": "stdout",
     "output_type": "stream",
     "text": [
      "code/jobs/stage_claim_into_access.py\n",
      "{'Name': 'stage_claim_into_access', 'ResponseMetadata': {'RequestId': 'a8d51c8f-04f6-4376-952d-615c1a7af271', 'HTTPStatusCode': 200, 'HTTPHeaders': {'date': 'Thu, 01 Jun 2023 14:55:34 GMT', 'content-type': 'application/x-amz-json-1.1', 'content-length': '34', 'connection': 'keep-alive', 'x-amzn-requestid': 'a8d51c8f-04f6-4376-952d-615c1a7af271'}, 'RetryAttempts': 0}}\n",
      "code/jobs/stage_claim_into_optimised.py\n",
      "{'Name': 'stage_claim_into_optimised', 'ResponseMetadata': {'RequestId': 'b3365302-8774-4f81-a2b7-86a8f77b9afe', 'HTTPStatusCode': 200, 'HTTPHeaders': {'date': 'Thu, 01 Jun 2023 14:55:35 GMT', 'content-type': 'application/x-amz-json-1.1', 'content-length': '37', 'connection': 'keep-alive', 'x-amzn-requestid': 'b3365302-8774-4f81-a2b7-86a8f77b9afe'}, 'RetryAttempts': 0}}\n",
      "code/jobs/stage_claim_into_raw.py\n",
      "{'Name': 'stage_claim_into_raw', 'ResponseMetadata': {'RequestId': '4705c06e-779c-4e6f-bad6-2573f07ce73d', 'HTTPStatusCode': 200, 'HTTPHeaders': {'date': 'Thu, 01 Jun 2023 14:55:35 GMT', 'content-type': 'application/x-amz-json-1.1', 'content-length': '31', 'connection': 'keep-alive', 'x-amzn-requestid': '4705c06e-779c-4e6f-bad6-2573f07ce73d'}, 'RetryAttempts': 0}}\n",
      "code/jobs/stage_date_into_optimised.py\n",
      "{'Name': 'stage_date_into_optimised', 'ResponseMetadata': {'RequestId': 'b8bd45a3-7383-4768-bb37-8bfdb6f61772', 'HTTPStatusCode': 200, 'HTTPHeaders': {'date': 'Thu, 01 Jun 2023 14:55:36 GMT', 'content-type': 'application/x-amz-json-1.1', 'content-length': '36', 'connection': 'keep-alive', 'x-amzn-requestid': 'b8bd45a3-7383-4768-bb37-8bfdb6f61772'}, 'RetryAttempts': 0}}\n",
      "code/jobs/stage_location_into_optimised.py\n",
      "{'Name': 'stage_location_into_optimised', 'ResponseMetadata': {'RequestId': 'e38b7d2f-1309-4554-a461-6ebb969a8f00', 'HTTPStatusCode': 200, 'HTTPHeaders': {'date': 'Thu, 01 Jun 2023 14:55:36 GMT', 'content-type': 'application/x-amz-json-1.1', 'content-length': '40', 'connection': 'keep-alive', 'x-amzn-requestid': 'e38b7d2f-1309-4554-a461-6ebb969a8f00'}, 'RetryAttempts': 0}}\n",
      "code/jobs/stage_policyholder_into_access.py\n",
      "{'Name': 'stage_policyholder_into_access', 'ResponseMetadata': {'RequestId': '60de252c-2cd5-45b9-b730-132930893e1b', 'HTTPStatusCode': 200, 'HTTPHeaders': {'date': 'Thu, 01 Jun 2023 14:55:36 GMT', 'content-type': 'application/x-amz-json-1.1', 'content-length': '41', 'connection': 'keep-alive', 'x-amzn-requestid': '60de252c-2cd5-45b9-b730-132930893e1b'}, 'RetryAttempts': 0}}\n",
      "code/jobs/stage_policyholder_into_optimised.py\n",
      "{'Name': 'stage_policyholder_into_optimised', 'ResponseMetadata': {'RequestId': 'e25e1785-b585-47f4-8683-1c072f0a17fa', 'HTTPStatusCode': 200, 'HTTPHeaders': {'date': 'Thu, 01 Jun 2023 14:55:37 GMT', 'content-type': 'application/x-amz-json-1.1', 'content-length': '44', 'connection': 'keep-alive', 'x-amzn-requestid': 'e25e1785-b585-47f4-8683-1c072f0a17fa'}, 'RetryAttempts': 0}}\n",
      "code/jobs/stage_policyholder_into_raw.py\n",
      "{'Name': 'stage_policyholder_into_raw', 'ResponseMetadata': {'RequestId': '87a19388-a3b5-4225-b4c8-4c862ee6b4a4', 'HTTPStatusCode': 200, 'HTTPHeaders': {'date': 'Thu, 01 Jun 2023 14:55:37 GMT', 'content-type': 'application/x-amz-json-1.1', 'content-length': '38', 'connection': 'keep-alive', 'x-amzn-requestid': '87a19388-a3b5-4225-b4c8-4c862ee6b4a4'}, 'RetryAttempts': 0}}\n",
      "code/jobs/stage_procedure_into_optimised.py\n",
      "{'Name': 'stage_procedure_into_optimised', 'ResponseMetadata': {'RequestId': '4ca63849-2687-4bd6-864a-42664682c087', 'HTTPStatusCode': 200, 'HTTPHeaders': {'date': 'Thu, 01 Jun 2023 14:55:38 GMT', 'content-type': 'application/x-amz-json-1.1', 'content-length': '41', 'connection': 'keep-alive', 'x-amzn-requestid': '4ca63849-2687-4bd6-864a-42664682c087'}, 'RetryAttempts': 0}}\n",
      "code/jobs/stage_provider_into_access.py\n",
      "{'Name': 'stage_provider_into_access', 'ResponseMetadata': {'RequestId': '0bc1635d-7366-47ce-a31c-495139496dbb', 'HTTPStatusCode': 200, 'HTTPHeaders': {'date': 'Thu, 01 Jun 2023 14:55:38 GMT', 'content-type': 'application/x-amz-json-1.1', 'content-length': '37', 'connection': 'keep-alive', 'x-amzn-requestid': '0bc1635d-7366-47ce-a31c-495139496dbb'}, 'RetryAttempts': 0}}\n",
      "code/jobs/stage_provider_into_optimised.py\n",
      "{'Name': 'stage_provider_into_optimised', 'ResponseMetadata': {'RequestId': '9e855a74-3124-4305-be30-7126ece8a069', 'HTTPStatusCode': 200, 'HTTPHeaders': {'date': 'Thu, 01 Jun 2023 14:55:38 GMT', 'content-type': 'application/x-amz-json-1.1', 'content-length': '40', 'connection': 'keep-alive', 'x-amzn-requestid': '9e855a74-3124-4305-be30-7126ece8a069'}, 'RetryAttempts': 0}}\n",
      "code/jobs/stage_provider_into_raw.py\n",
      "{'Name': 'stage_provider_into_raw', 'ResponseMetadata': {'RequestId': '3840f01f-18a4-4ecb-b203-1b4817f02808', 'HTTPStatusCode': 200, 'HTTPHeaders': {'date': 'Thu, 01 Jun 2023 14:55:39 GMT', 'content-type': 'application/x-amz-json-1.1', 'content-length': '34', 'connection': 'keep-alive', 'x-amzn-requestid': '3840f01f-18a4-4ecb-b203-1b4817f02808'}, 'RetryAttempts': 0}}\n",
      "code/jobs/stage_source_into_landing.py\n",
      "{'Name': 'stage_source_into_landing', 'ResponseMetadata': {'RequestId': '7232af30-eda7-4b76-ae1e-a1a68445fd85', 'HTTPStatusCode': 200, 'HTTPHeaders': {'date': 'Thu, 01 Jun 2023 14:55:41 GMT', 'content-type': 'application/x-amz-json-1.1', 'content-length': '36', 'connection': 'keep-alive', 'x-amzn-requestid': '7232af30-eda7-4b76-ae1e-a1a68445fd85'}, 'RetryAttempts': 0}}\n"
     ]
    }
   ],
   "source": [
    "glue_client = boto3.client('glue', region_name='us-east-1')\n",
    "job_names = []\n",
    "for s3_object in objects:\n",
    "    print(s3_object.key)\n",
    "    \n",
    "    # Create an AWS Glue client\n",
    "\n",
    "    # Set the parameters for the new Glue job\n",
    "    glue_role = 'data-quality-lf'\n",
    "    script_location = f's3://project-lf/{s3_object.key}'\n",
    "    job_name = script_location.split('/')[-1].split('.')[0]\n",
    "    extra_py_files = 's3://project-lf/code/dependencies/libraries.zip'\n",
    "    glue_version = '4.0'\n",
    "    additional_python_modules = \"holidays\"\n",
    "\n",
    "    try:\n",
    "        # Create the new Glue job\n",
    "        response = glue_client.create_job(\n",
    "            Name=job_name,\n",
    "            Role=glue_role,\n",
    "            Command={'Name': 'glueetl', 'ScriptLocation': script_location},\n",
    "            GlueVersion=glue_version,\n",
    "            DefaultArguments={\n",
    "                '--extra-py-files': extra_py_files,\n",
    "                '--additional-python-modules': additional_python_modules\n",
    "            },\n",
    "            WorkerType='G.1X',\n",
    "            NumberOfWorkers=2\n",
    "        )\n",
    "        print(response)\n",
    "    except Exception as e:\n",
    "        print(\"Skipping job creation for\", job_name, e)\n",
    "    \n",
    "    job_names.append(job_name)"
   ]
  },
  {
   "attachments": {},
   "cell_type": "markdown",
   "metadata": {},
   "source": [
    "## Define execution order of jobs"
   ]
  },
  {
   "cell_type": "code",
   "execution_count": 89,
   "metadata": {},
   "outputs": [],
   "source": [
    "job_waves = [\n",
    "     ['stage_claim_into_raw', 'stage_provider_into_raw', 'stage_policyholder_into_raw',\n",
    "    'stage_date_into_optimised'],\n",
    "     \n",
    "    ['stage_claim_into_access','stage_provider_into_access',\n",
    "        'stage_policyholder_into_access'],\n",
    "    \n",
    "    ['stage_location_into_optimised', 'stage_procedure_into_optimised'],\n",
    "    \n",
    "    ['stage_policyholder_into_optimised', 'stage_provider_into_optimised'],\n",
    "    \n",
    "    ['stage_claim_into_optimised']\n",
    "]"
   ]
  },
  {
   "attachments": {},
   "cell_type": "markdown",
   "metadata": {},
   "source": [
    "## Define a function to run jobs and wait until they have completed"
   ]
  },
  {
   "cell_type": "code",
   "execution_count": 90,
   "metadata": {},
   "outputs": [],
   "source": [
    "import boto3\n",
    "import time\n",
    "import colorama\n",
    "from colorama import Fore, Style\n",
    "colorama.init()\n",
    "\n",
    "# Create an AWS Glue client\n",
    "glue_client = boto3.client('glue', region_name='us-east-1')\n",
    "\n",
    "# Function to run a list of jobs and wait for them to finish\n",
    "def run_jobs(jobs):\n",
    "    # Start each job and store its job run ID\n",
    "    job_run_ids = {}\n",
    "    for job_name in jobs:\n",
    "        response = glue_client.start_job_run(JobName=job_name)\n",
    "        job_run_id = response['JobRunId']\n",
    "        job_run_ids[job_name] = job_run_id\n",
    "        print(job_name, job_run_id)\n",
    "\n",
    "    print(\"-\"*80)\n",
    "    \n",
    "    # Wait for all jobs to finish\n",
    "    while True:\n",
    "        # Check the status of each job run\n",
    "        all_finished = True\n",
    "    \n",
    "        for job_name, job_run_id in job_run_ids.items():\n",
    "            try:\n",
    "                response = glue_client.get_job(JobName=job_name)\n",
    "                response = glue_client.get_job_run(JobName=job_name, RunId=job_run_id)\n",
    "                status = response['JobRun']['JobRunState']\n",
    "                if status not in ['SUCCEEDED', 'FAILED', 'STOPPED']:\n",
    "                    all_finished = False\n",
    "                else:\n",
    "                    if status == 'SUCCEEDED':\n",
    "                        print(Fore.GREEN + '\\t' + job_name + ' has ' + status + '.' + Style.RESET_ALL)\n",
    "                    elif status == 'FAILED':\n",
    "                        error_message = response['JobRun'].get('ErrorMessage', 'No error message available')\n",
    "                        print(Fore.RED + '\\t' + job_name + ' has ' + status + '.' + Style.RESET_ALL)\n",
    "                        print(Fore.RED + f'\\t{job_name} has {status}. Error message: {error_message}' + Style.RESET_ALL)\n",
    "                    else:\n",
    "                        print(Fore.YELLOW + f'\\t{job_name} has {status}.' + Style.RESET_ALL)\n",
    "            except glue_client.exceptions.EntityNotFoundException:\n",
    "                continue\n",
    "        print(\"-\"*80)\n",
    "        # If all jobs have finished, exit the loop\n",
    "        if all_finished:\n",
    "            break\n",
    "        # Otherwise, wait and check again\n",
    "        time.sleep(10)"
   ]
  },
  {
   "attachments": {},
   "cell_type": "markdown",
   "metadata": {},
   "source": [
    "## Execute jobs in order"
   ]
  },
  {
   "cell_type": "code",
   "execution_count": 100,
   "metadata": {},
   "outputs": [
    {
     "name": "stdout",
     "output_type": "stream",
     "text": [
      "********************************************************************************\n",
      "Starting on Run 1: ['stage_claim_into_raw', 'stage_provider_into_raw', 'stage_policyholder_into_raw', 'stage_date_into_optimised']\n",
      "********************************************************************************\n",
      "stage_claim_into_raw jr_f013cdcd5ba3156e87729f26f19dc25d5ebcffcf263ab4858c02f2b56e4d5776\n",
      "stage_provider_into_raw jr_06ab19d466f1cb9a05dd8fe770393be13bebf127b9434129619e81282a2d5166\n",
      "stage_policyholder_into_raw jr_fdc34733a113a4eaba4bb9a66582be5bf7208a1807792cd3f7bcc72d1b389858\n",
      "stage_date_into_optimised jr_0a425aa1c16043e5e8f600a973c86f7a4d4890574cd22b8b1a073d1428696990\n",
      "--------------------------------------------------------------------------------\n",
      "--------------------------------------------------------------------------------\n",
      "--------------------------------------------------------------------------------\n",
      "--------------------------------------------------------------------------------\n",
      "--------------------------------------------------------------------------------\n",
      "--------------------------------------------------------------------------------\n",
      "\tstage_provider_into_rawhas SUCCEEDED.\n",
      "--------------------------------------------------------------------------------\n",
      "\tstage_claim_into_rawhas SUCCEEDED.\n",
      "\tstage_provider_into_rawhas SUCCEEDED.\n",
      "\tstage_policyholder_into_rawhas SUCCEEDED.\n",
      "\tstage_date_into_optimisedhas SUCCEEDED.\n",
      "--------------------------------------------------------------------------------\n",
      "********************************************************************************\n",
      "Starting on Run 2: ['stage_claim_into_access', 'stage_provider_into_access', 'stage_policyholder_into_access']\n",
      "********************************************************************************\n",
      "stage_claim_into_access jr_d13a12e9e73dcd8f3d165860b44f0ef7b384e14fe0c28f542098e5dae4f8a6ca\n",
      "stage_provider_into_access jr_f9525163d5adcce6169f188a173c3431125844e6f8a646671fa85d34eefa0a1b\n",
      "stage_policyholder_into_access jr_74ca915757abcd9ea065bccd4e702a3dfbfc05d933440aac54326c85f8201927\n",
      "--------------------------------------------------------------------------------\n",
      "--------------------------------------------------------------------------------\n",
      "--------------------------------------------------------------------------------\n",
      "--------------------------------------------------------------------------------\n",
      "--------------------------------------------------------------------------------\n",
      "\tstage_provider_into_accesshas SUCCEEDED.\n",
      "\tstage_policyholder_into_accesshas SUCCEEDED.\n",
      "--------------------------------------------------------------------------------\n",
      "\tstage_claim_into_accesshas SUCCEEDED.\n",
      "\tstage_provider_into_accesshas SUCCEEDED.\n",
      "\tstage_policyholder_into_accesshas SUCCEEDED.\n",
      "--------------------------------------------------------------------------------\n",
      "********************************************************************************\n",
      "Starting on Run 3: ['stage_location_into_optimised', 'stage_procedure_into_optimised']\n",
      "********************************************************************************\n",
      "stage_location_into_optimised jr_a5a6881e36bd0f6041043ceff6336e2ad599bcf05abb80ce895e11ea5fb083a9\n",
      "stage_procedure_into_optimised jr_950089f62361213c7733e66546bd76bdc03e7fbc7ad01a0033873eea62d9c5b1\n",
      "--------------------------------------------------------------------------------\n",
      "--------------------------------------------------------------------------------\n",
      "--------------------------------------------------------------------------------\n",
      "--------------------------------------------------------------------------------\n",
      "--------------------------------------------------------------------------------\n",
      "--------------------------------------------------------------------------------\n",
      "\tstage_location_into_optimisedhas SUCCEEDED.\n",
      "\tstage_procedure_into_optimisedhas SUCCEEDED.\n",
      "--------------------------------------------------------------------------------\n",
      "********************************************************************************\n",
      "Starting on Run 4: ['stage_policyholder_into_optimised', 'stage_provider_into_optimised']\n",
      "********************************************************************************\n",
      "stage_policyholder_into_optimised jr_9ada937f0b9b610b1a15c408abee6ac7bea1ea32ced64b5fce767645e4d2c654\n",
      "stage_provider_into_optimised jr_a1c965cce6124508bcfd00b5d6578a3e953d20adc65894a005afd779da1aab3b\n",
      "--------------------------------------------------------------------------------\n",
      "--------------------------------------------------------------------------------\n",
      "--------------------------------------------------------------------------------\n",
      "--------------------------------------------------------------------------------\n",
      "--------------------------------------------------------------------------------\n",
      "--------------------------------------------------------------------------------\n",
      "\tstage_policyholder_into_optimisedhas SUCCEEDED.\n",
      "\tstage_provider_into_optimisedhas SUCCEEDED.\n",
      "--------------------------------------------------------------------------------\n",
      "********************************************************************************\n",
      "Starting on Run 5: ['stage_claim_into_optimised']\n",
      "********************************************************************************\n",
      "stage_claim_into_optimised jr_52541dcad8424000d6d67dc8dccdaebfa593089c70404723707489d773f280f8\n",
      "--------------------------------------------------------------------------------\n",
      "--------------------------------------------------------------------------------\n",
      "--------------------------------------------------------------------------------\n",
      "--------------------------------------------------------------------------------\n",
      "--------------------------------------------------------------------------------\n",
      "--------------------------------------------------------------------------------\n",
      "--------------------------------------------------------------------------------\n",
      "\tstage_claim_into_optimisedhas SUCCEEDED.\n",
      "--------------------------------------------------------------------------------\n",
      "All jobs finished\n"
     ]
    }
   ],
   "source": [
    "for count, job_set in enumerate(job_waves):\n",
    "    print(\"*\"*80)\n",
    "    print(f\"Starting on Run {count + 1}: {job_set}\")\n",
    "    print(\"*\"*80)\n",
    "    run_jobs(job_set)\n",
    "print('All jobs finished')"
   ]
  },
  {
   "cell_type": "code",
   "execution_count": 46,
   "metadata": {},
   "outputs": [
    {
     "name": "stdout",
     "output_type": "stream",
     "text": [
      "{\n",
      "    \"ETag\": \"\\\"d41d8cd98f00b204e9800998ecf8427e\\\"\", \n",
      "    \"ServerSideEncryption\": \"AES256\"\n",
      "}\n",
      "{\n",
      "    \"ETag\": \"\\\"d41d8cd98f00b204e9800998ecf8427e\\\"\", \n",
      "    \"ServerSideEncryption\": \"AES256\"\n",
      "}\n",
      "{\n",
      "    \"ETag\": \"\\\"d41d8cd98f00b204e9800998ecf8427e\\\"\", \n",
      "    \"ServerSideEncryption\": \"AES256\"\n",
      "}\n"
     ]
    }
   ],
   "source": [
    "# use aws cli to create landing folders\n",
    "# make s3://project-lf/landing/claim_db/claim/full/ for claim, provider and policyholder\n",
    "!aws s3api put-object --bucket project-lf --key etl/landing/claim_db/claim/full/\n",
    "!aws s3api put-object --bucket project-lf --key etl/landing/claim_db/provider/full/\n",
    "!aws s3api put-object --bucket project-lf --key etl/landing/claim_db/policyholder/full/\n",
    "\n",
    "# cp source data files into landing folders\n"
   ]
  }
 ],
 "metadata": {
  "kernelspec": {
   "display_name": "Python 3",
   "language": "python",
   "name": "python3"
  },
  "language_info": {
   "codemirror_mode": {
    "name": "ipython",
    "version": 3
   },
   "file_extension": ".py",
   "mimetype": "text/x-python",
   "name": "python",
   "nbconvert_exporter": "python",
   "pygments_lexer": "ipython3",
   "version": "3.10.2"
  },
  "orig_nbformat": 4
 },
 "nbformat": 4,
 "nbformat_minor": 2
}
